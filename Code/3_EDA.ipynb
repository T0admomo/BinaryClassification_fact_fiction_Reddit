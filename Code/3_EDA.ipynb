{
 "cells": [
  {
   "cell_type": "code",
   "execution_count": 1,
   "metadata": {},
   "outputs": [
    {
     "name": "stderr",
     "output_type": "stream",
     "text": [
      "C:\\Users\\testi\\anaconda3\\lib\\site-packages\\sklearn\\utils\\deprecation.py:143: FutureWarning: The sklearn.feature_extraction.stop_words module is  deprecated in version 0.22 and will be removed in version 0.24. The corresponding classes / functions should instead be imported from sklearn.feature_extraction.text. Anything that cannot be imported from sklearn.feature_extraction.text is now part of the private API.\n",
      "  warnings.warn(message, FutureWarning)\n"
     ]
    }
   ],
   "source": [
    "import pickle\n",
    "import numpy as np\n",
    "import pandas as pd \n",
    "import matplotlib.pyplot as plt \n",
    "import seaborn as sns\n",
    " \n",
    "sns.set()\n",
    "plt.style.use('seaborn-colorblind')\n",
    "pd.options.display.max_colwidth = 400\n",
    "\n",
    "from sklearn.feature_extraction.text import CountVectorizer\n",
    "from sklearn.feature_extraction import stop_words\n",
    "from sklearn.metrics import confusion_matrix, ConfusionMatrixDisplay, classification_report\n",
    "\n",
    "from nltk.tokenize import word_tokenize, sent_tokenize,RegexpTokenizer"
   ]
  },
  {
   "cell_type": "markdown",
   "metadata": {},
   "source": [
    "# Read in corpus.pkl"
   ]
  },
  {
   "cell_type": "markdown",
   "metadata": {},
   "source": [
    "___"
   ]
  },
  {
   "cell_type": "markdown",
   "metadata": {},
   "source": [
    "Here we are going to change the name of our target column and binarize it. "
   ]
  },
  {
   "cell_type": "markdown",
   "metadata": {},
   "source": [
    "|value|subreddit|\n",
    "|---|---|\n",
    "|1|r/facts|\n",
    "|0|r/FakeFacts|"
   ]
  },
  {
   "cell_type": "code",
   "execution_count": 2,
   "metadata": {},
   "outputs": [],
   "source": [
    "with open('corpus.pkl','rb') as clean_pickle:\n",
    "    corpus = pickle.load(clean_pickle)"
   ]
  },
  {
   "cell_type": "code",
   "execution_count": 3,
   "metadata": {},
   "outputs": [
    {
     "data": {
      "text/plain": [
       "630"
      ]
     },
     "execution_count": 3,
     "metadata": {},
     "output_type": "execute_result"
    }
   ],
   "source": [
    "corpus.selftext.str.contains('of').sum()"
   ]
  },
  {
   "cell_type": "code",
   "execution_count": 4,
   "metadata": {},
   "outputs": [],
   "source": [
    "# rename\n",
    "corpus.rename(columns={\"subreddit\":\"fact\"}, inplace = True)\n",
    "# binarize\n",
    "corpus.fact = np.where(corpus.fact == 'facts', 1,0)"
   ]
  },
  {
   "cell_type": "code",
   "execution_count": 5,
   "metadata": {},
   "outputs": [
    {
     "data": {
      "text/plain": [
       "1    0.543085\n",
       "0    0.456915\n",
       "Name: fact, dtype: float64"
      ]
     },
     "execution_count": 5,
     "metadata": {},
     "output_type": "execute_result"
    }
   ],
   "source": [
    "corpus.fact.value_counts(normalize = True )"
   ]
  },
  {
   "cell_type": "markdown",
   "metadata": {},
   "source": [
    "# Functions"
   ]
  },
  {
   "cell_type": "markdown",
   "metadata": {},
   "source": [
    "___"
   ]
  },
  {
   "cell_type": "markdown",
   "metadata": {},
   "source": [
    "## HUD"
   ]
  },
  {
   "cell_type": "code",
   "execution_count": 6,
   "metadata": {
    "jupyter": {
     "source_hidden": true
    }
   },
   "outputs": [
    {
     "name": "stdout",
     "output_type": "stream",
     "text": [
      "mean\n"
     ]
    },
    {
     "data": {
      "text/html": [
       "<div>\n",
       "<style scoped>\n",
       "    .dataframe tbody tr th:only-of-type {\n",
       "        vertical-align: middle;\n",
       "    }\n",
       "\n",
       "    .dataframe tbody tr th {\n",
       "        vertical-align: top;\n",
       "    }\n",
       "\n",
       "    .dataframe thead th {\n",
       "        text-align: right;\n",
       "    }\n",
       "</style>\n",
       "<table border=\"1\" class=\"dataframe\">\n",
       "  <thead>\n",
       "    <tr style=\"text-align: right;\">\n",
       "      <th></th>\n",
       "      <th>selftext_length</th>\n",
       "    </tr>\n",
       "    <tr>\n",
       "      <th>fact</th>\n",
       "      <th></th>\n",
       "    </tr>\n",
       "  </thead>\n",
       "  <tbody>\n",
       "    <tr>\n",
       "      <th>0</th>\n",
       "      <td>176.398177</td>\n",
       "    </tr>\n",
       "    <tr>\n",
       "      <th>1</th>\n",
       "      <td>187.203667</td>\n",
       "    </tr>\n",
       "  </tbody>\n",
       "</table>\n",
       "</div>"
      ],
      "text/plain": [
       "      selftext_length\n",
       "fact                 \n",
       "0          176.398177\n",
       "1          187.203667"
      ]
     },
     "metadata": {},
     "output_type": "display_data"
    },
    {
     "name": "stdout",
     "output_type": "stream",
     "text": [
      "preview\n"
     ]
    },
    {
     "data": {
      "text/html": [
       "<div>\n",
       "<style scoped>\n",
       "    .dataframe tbody tr th:only-of-type {\n",
       "        vertical-align: middle;\n",
       "    }\n",
       "\n",
       "    .dataframe tbody tr th {\n",
       "        vertical-align: top;\n",
       "    }\n",
       "\n",
       "    .dataframe thead th {\n",
       "        text-align: right;\n",
       "    }\n",
       "</style>\n",
       "<table border=\"1\" class=\"dataframe\">\n",
       "  <thead>\n",
       "    <tr style=\"text-align: right;\">\n",
       "      <th></th>\n",
       "      <th>fact</th>\n",
       "      <th>selftext</th>\n",
       "      <th>selftext_length</th>\n",
       "    </tr>\n",
       "  </thead>\n",
       "  <tbody>\n",
       "    <tr>\n",
       "      <th>0</th>\n",
       "      <td>0</td>\n",
       "      <td>The origin the word \"yeet\" in old english .</td>\n",
       "      <td>50</td>\n",
       "    </tr>\n",
       "    <tr>\n",
       "      <th>1</th>\n",
       "      <td>0</td>\n",
       "      <td>Did know LEGO named the phrase “let’s ”? In 1877 company named “let’s ” a new toy named LEGO</td>\n",
       "      <td>117</td>\n",
       "    </tr>\n",
       "  </tbody>\n",
       "</table>\n",
       "</div>"
      ],
      "text/plain": [
       "   fact  \\\n",
       "0     0   \n",
       "1     0   \n",
       "\n",
       "                                                                                       selftext  \\\n",
       "0                                                   The origin the word \"yeet\" in old english .   \n",
       "1  Did know LEGO named the phrase “let’s ”? In 1877 company named “let’s ” a new toy named LEGO   \n",
       "\n",
       "   selftext_length  \n",
       "0               50  \n",
       "1              117  "
      ]
     },
     "metadata": {},
     "output_type": "display_data"
    }
   ],
   "source": [
    "# diplays preview of dataframe for checking changes\n",
    "\n",
    "base_group = corpus.groupby(['fact']).mean()\n",
    "head = corpus.head(2)\n",
    "hud = [base_group,head]\n",
    "disp = ['mean','preview']\n",
    "def disp_hud(hud):\n",
    "    for i,li in enumerate(hud):\n",
    "        print(disp[i])\n",
    "        display(li)\n",
    "        \n",
    "disp_hud(hud)"
   ]
  },
  {
   "cell_type": "markdown",
   "metadata": {},
   "source": [
    "# EDA on character length"
   ]
  },
  {
   "cell_type": "markdown",
   "metadata": {},
   "source": [
    "___"
   ]
  },
  {
   "cell_type": "markdown",
   "metadata": {},
   "source": [
    "For the purpose of plotting lets go ahead and make 2 dataframe's one for each subreddit."
   ]
  },
  {
   "cell_type": "code",
   "execution_count": 7,
   "metadata": {},
   "outputs": [],
   "source": [
    "fact = corpus.fact == 1\n",
    "fact_df = corpus[fact]\n",
    "fiction = corpus.fact == 0 \n",
    "fiction_df = corpus[fiction]"
   ]
  },
  {
   "cell_type": "code",
   "execution_count": 8,
   "metadata": {
    "tags": []
   },
   "outputs": [
    {
     "data": {
      "image/png": "[encoded data removed]",
      "text/plain": [
       "<Figure size 1080x576 with 1 Axes>"
      ]
     },
     "metadata": {},
     "output_type": "display_data"
    }
   ],
   "source": [
    "plt.figure(figsize = (15,8))\n",
    "\n",
    "# plot distributions\n",
    "\n",
    "# r/facts\n",
    "plt.hist(fact_df.selftext_length, bins = 200, alpha = 0.75, label = 'facts', color = 'lightsalmon')\n",
    "# r/FakeFacts\n",
    "plt.hist(fiction_df.selftext_length, bins = 200, alpha = 0.75, label = 'fiction', color = 'mediumturquoise')\n",
    "\n",
    "plt.colormaps()\n",
    "\n",
    "# we have a fiew outliers to deal with so for now we limit the X axis.\n",
    "plt.xlim(0,800);\n",
    "# set legend fontsize\n",
    "plt.legend(fontsize = 20)\n",
    "# set title\n",
    "plt.title('Distribution of Char. Length (r/fact * r/FakeFacts)', fontsize = 20)\n",
    "\n",
    "# set axis font size \n",
    "plt.yticks(fontsize = 15);\n",
    "plt.xticks(fontsize = 15);\n",
    "plt.savefig('distribution.png')"
   ]
  },
  {
   "cell_type": "markdown",
   "metadata": {},
   "source": [
    "We noticed some serious outliers in our initial EDA. though they are anomolous, we don't need to remove them for now, let's just look at them to get an idea of whether or not ignoring them in visualization is ok."
   ]
  },
  {
   "cell_type": "code",
   "execution_count": 9,
   "metadata": {},
   "outputs": [
    {
     "data": {
      "text/plain": [
       "5133    9135\n",
       "1698    5912\n",
       "1697    5906\n",
       "5139    5659\n",
       "2015    5356\n",
       "1908    5304\n",
       "1985    5230\n",
       "4819    5021\n",
       "1115    4381\n",
       "5145    3660\n",
       "1539    3522\n",
       "3240    3207\n",
       "5200    3009\n",
       "4531    2848\n",
       "3159    2774\n",
       "Name: selftext_length, dtype: int64"
      ]
     },
     "execution_count": 9,
     "metadata": {},
     "output_type": "execute_result"
    }
   ],
   "source": [
    "corpus.selftext_length.sort_values(ascending = False).head(15)"
   ]
  },
  {
   "cell_type": "code",
   "execution_count": 10,
   "metadata": {},
   "outputs": [
    {
     "data": {
      "text/html": [
       "<div>\n",
       "<style scoped>\n",
       "    .dataframe tbody tr th:only-of-type {\n",
       "        vertical-align: middle;\n",
       "    }\n",
       "\n",
       "    .dataframe tbody tr th {\n",
       "        vertical-align: top;\n",
       "    }\n",
       "\n",
       "    .dataframe thead th {\n",
       "        text-align: right;\n",
       "    }\n",
       "</style>\n",
       "<table border=\"1\" class=\"dataframe\">\n",
       "  <thead>\n",
       "    <tr style=\"text-align: right;\">\n",
       "      <th></th>\n",
       "      <th>fact</th>\n",
       "      <th>selftext</th>\n",
       "      <th>selftext_length</th>\n",
       "    </tr>\n",
       "  </thead>\n",
       "  <tbody>\n",
       "    <tr>\n",
       "      <th>5133</th>\n",
       "      <td>1</td>\n",
       "      <td>Chinese police trained counter -terrorism tactics Israel prior Beijing Olympics : How might worsened China deals protests civilian uprisings # Israeli Police Trained Chinese Counterparts Prior Olympics Haifa stadium turned mock Beijing Bird 's Nest -week course riot control counter terror . **https://www.haaretz.com/1.5038565** “The training involved , other things , neutralize terrorists bare...</td>\n",
       "      <td>9135</td>\n",
       "    </tr>\n",
       "  </tbody>\n",
       "</table>\n",
       "</div>"
      ],
      "text/plain": [
       "      fact  \\\n",
       "5133     1   \n",
       "\n",
       "                                                                                                                                                                                                                                                                                                                                                                                                             selftext  \\\n",
       "5133  Chinese police trained counter -terrorism tactics Israel prior Beijing Olympics : How might worsened China deals protests civilian uprisings # Israeli Police Trained Chinese Counterparts Prior Olympics Haifa stadium turned mock Beijing Bird 's Nest -week course riot control counter terror . **https://www.haaretz.com/1.5038565** “The training involved , other things , neutralize terrorists bare...   \n",
       "\n",
       "      selftext_length  \n",
       "5133             9135  "
      ]
     },
     "execution_count": 10,
     "metadata": {},
     "output_type": "execute_result"
    }
   ],
   "source": [
    "corpus.iloc[[5133]]"
   ]
  },
  {
   "cell_type": "markdown",
   "metadata": {},
   "source": [
    "It looks like we have fewer than 15 observations that are skewing our numbers. When we ignore the outliers and look closer, we see that r/facts post's are only lightly larger on average than those of r/FakeFacts. The large posts are legitimate and usable after inspection so we will keep them. "
   ]
  },
  {
   "cell_type": "code",
   "execution_count": 11,
   "metadata": {
    "tags": []
   },
   "outputs": [
    {
     "data": {
      "image/png": "[encoded data removed]",
      "text/plain": [
       "<Figure size 1296x720 with 1 Axes>"
      ]
     },
     "metadata": {},
     "output_type": "display_data"
    }
   ],
   "source": [
    "plt.figure(figsize = (18,10))\n",
    "sns.set_style('whitegrid')\n",
    "sns.stripplot(x=\"fact\", y=\"selftext_length\", data=corpus,\n",
    "             jitter = 0.25,\n",
    "             palette = 'Set2',\n",
    "             size = 6,\n",
    "             marker = 'D');\n",
    "plt.ylim(0,4_000);\n",
    "plt.yticks(fontsize = 12)\n",
    "plt.ylabel('Character Length', fontsize = 20)\n",
    "plt.xlabel('Fiction  /  Fact',fontsize = 20)\n",
    "plt.title('Post Length Density by Subreddit', fontsize = 20);\n",
    "plt.legend(['Fiction','Fact'], fontsize = 20);\n",
    "plt.savefig('Post Lenght Density.png')"
   ]
  },
  {
   "cell_type": "code",
   "execution_count": 12,
   "metadata": {},
   "outputs": [
    {
     "data": {
      "text/html": [
       "<div>\n",
       "<style scoped>\n",
       "    .dataframe tbody tr th:only-of-type {\n",
       "        vertical-align: middle;\n",
       "    }\n",
       "\n",
       "    .dataframe tbody tr th {\n",
       "        vertical-align: top;\n",
       "    }\n",
       "\n",
       "    .dataframe thead th {\n",
       "        text-align: right;\n",
       "    }\n",
       "</style>\n",
       "<table border=\"1\" class=\"dataframe\">\n",
       "  <thead>\n",
       "    <tr style=\"text-align: right;\">\n",
       "      <th></th>\n",
       "      <th>fact</th>\n",
       "      <th>selftext</th>\n",
       "      <th>selftext_length</th>\n",
       "    </tr>\n",
       "  </thead>\n",
       "  <tbody>\n",
       "    <tr>\n",
       "      <th>1564</th>\n",
       "      <td>1</td>\n",
       "      <td>Im hungry</td>\n",
       "      <td>11</td>\n",
       "    </tr>\n",
       "  </tbody>\n",
       "</table>\n",
       "</div>"
      ],
      "text/plain": [
       "      fact   selftext  selftext_length\n",
       "1564     1  Im hungry               11"
      ]
     },
     "execution_count": 12,
     "metadata": {},
     "output_type": "execute_result"
    }
   ],
   "source": [
    "corpus.iloc[[1564]]"
   ]
  },
  {
   "cell_type": "code",
   "execution_count": 13,
   "metadata": {},
   "outputs": [],
   "source": [
    "# corpus = corpus[corpus['selftext_length'] > 10]"
   ]
  },
  {
   "cell_type": "markdown",
   "metadata": {},
   "source": [
    "What is more concerning is these low numbers. They appear to be posts with no text. that is not useful. We are going to remove anything that has less than 10 characters, or anything that would likely be less than two words. Our character length is a bit off from what you would expect since our count includes spaces and some commas which have since been removed, this is ok as it preserves the original length of the post.\n",
    "\n",
    "So far we can see that their is a slight but noticable difference in the length of the posts. This is not likely going to be enough of a difference to seriously effect our results. Post length may turn out to be a feature in our final model."
   ]
  },
  {
   "cell_type": "markdown",
   "metadata": {},
   "source": [
    "# Sparse Matrix"
   ]
  },
  {
   "cell_type": "markdown",
   "metadata": {},
   "source": [
    "___"
   ]
  },
  {
   "cell_type": "markdown",
   "metadata": {},
   "source": [
    "Now we create a sparse matrix out of our selftext from the corpus."
   ]
  },
  {
   "cell_type": "code",
   "execution_count": 14,
   "metadata": {},
   "outputs": [],
   "source": [
    "from myfunct import *"
   ]
  },
  {
   "cell_type": "code",
   "execution_count": 15,
   "metadata": {},
   "outputs": [],
   "source": [
    "#make_tokens(corpus,'selftext')"
   ]
  },
  {
   "cell_type": "code",
   "execution_count": 16,
   "metadata": {},
   "outputs": [],
   "source": [
    "sparse_df = corpus.drop(columns = ['selftext_length'])\n",
    "sparse_df.columns\n",
    "\n",
    "X = sparse_df['selftext']\n",
    "y = sparse_df['fact']\n",
    "\n",
    "\n",
    "cvec = CountVectorizer(stop_words = stop_words)\n"
   ]
  },
  {
   "cell_type": "code",
   "execution_count": 17,
   "metadata": {},
   "outputs": [
    {
     "data": {
      "text/plain": [
       "pandas.core.series.Series"
      ]
     },
     "execution_count": 17,
     "metadata": {},
     "output_type": "execute_result"
    }
   ],
   "source": [
    "type(X)"
   ]
  },
  {
   "cell_type": "code",
   "execution_count": 18,
   "metadata": {},
   "outputs": [
    {
     "data": {
      "text/plain": [
       "'The origin the word \"yeet\" in old english .'"
      ]
     },
     "execution_count": 18,
     "metadata": {},
     "output_type": "execute_result"
    }
   ],
   "source": [
    "X[0]"
   ]
  },
  {
   "cell_type": "code",
   "execution_count": 19,
   "metadata": {},
   "outputs": [],
   "source": [
    "# X = cvec.fit_transform(X)\n",
    "\n",
    "\n",
    "# sparse_df = pd.DataFrame(X.todense(), columns = cvec.get_feature_names())"
   ]
  },
  {
   "cell_type": "markdown",
   "metadata": {},
   "source": [
    "# Frequency "
   ]
  },
  {
   "cell_type": "markdown",
   "metadata": {},
   "source": [
    "___"
   ]
  },
  {
   "cell_type": "markdown",
   "metadata": {},
   "source": [
    "We are going to get rid of any words with a total occurance of less than 5."
   ]
  },
  {
   "cell_type": "code",
   "execution_count": 20,
   "metadata": {},
   "outputs": [],
   "source": [
    "\n",
    "\n",
    "my_stop_words = ['https','com','www','people','know','actually'\n",
    "               ,'world','time','years','fact','facts','fake','like','sk','10','en','day','water','did','just']\n",
    "stop_words = text.ENGLISH_STOP_WORDS.union(my_stop_words)"
   ]
  },
  {
   "cell_type": "code",
   "execution_count": 21,
   "metadata": {},
   "outputs": [],
   "source": [
    "# returns all rows and columns who's sum is not 0 \n",
    "#sparse_df =  sparse_df.loc[(sparse_df.sum(axis=1) > 5), (sparse_df.sum(axis=0) >5)]\n",
    "\n",
    "# mask for plotting r/facts\n",
    "fact = y == 1\n",
    "# mask for plotting r/FakeFacts\n",
    "fiction = y == 0"
   ]
  },
  {
   "cell_type": "code",
   "execution_count": 22,
   "metadata": {},
   "outputs": [],
   "source": [
    "fact_word_count = [ count for count in sparse_df[fact].sum(axis=0)];\n",
    "fiction_word_count = [ count for count in sparse_df[fiction].sum(axis=0)]"
   ]
  },
  {
   "cell_type": "markdown",
   "metadata": {},
   "source": [
    "# Subreddit Common Words"
   ]
  },
  {
   "cell_type": "markdown",
   "metadata": {},
   "source": [
    "___"
   ]
  },
  {
   "cell_type": "code",
   "execution_count": 24,
   "metadata": {},
   "outputs": [],
   "source": [
    "# get results for fact and fiction df\n",
    "\n",
    "\n",
    "\n",
    "plt.figure(figsize = (15,10))\n",
    "plt.yticks(fontsize = 20)\n",
    "plt.xticks(fontsize = 20)\n",
    "plt.title('Most Common Words from r/FakeFacts', fontsize = 25)\n",
    "sparse_df[fiction].sum().sort_values(ascending = False).head(15).plot(kind = 'barh',color ='mediumturquoise', alpha = .75);\n",
    "plt.savefig('Fiction_most_common.png')"
   ]
  },
  {
   "cell_type": "code",
   "execution_count": null,
   "metadata": {
    "jupyter": {
     "source_hidden": true
    }
   },
   "outputs": [],
   "source": [
    "# get results for fact and fiction df\n",
    "\n",
    "\n",
    "\n",
    "plt.figure(figsize = (15,10))\n",
    "plt.yticks(fontsize = 20)\n",
    "plt.xticks(fontsize = 20)\n",
    "plt.title('Most Common Words from r/Facts', fontsize = 25)\n",
    "sparse_df[fact].sum().sort_values(ascending = False).head(15).plot(kind = 'barh', color = 'lightsalmon', alpha = .75);\n",
    "plt.savefig('Fact_most_common.png')"
   ]
  },
  {
   "cell_type": "markdown",
   "metadata": {},
   "source": [
    "# Corpus Common Words"
   ]
  },
  {
   "cell_type": "markdown",
   "metadata": {},
   "source": [
    "___"
   ]
  },
  {
   "cell_type": "markdown",
   "metadata": {},
   "source": [
    "We seem to have widdled the worst of the stopwords away from our most common words in the Dataframe! Awesome!"
   ]
  },
  {
   "cell_type": "code",
   "execution_count": null,
   "metadata": {
    "jupyter": {
     "source_hidden": true
    }
   },
   "outputs": [],
   "source": [
    "plt.figure(figsize = (15,10))\n",
    "plt.yticks(fontsize = 20)\n",
    "plt.xticks(fontsize = 20)\n",
    "plt.title('Most Common Words in Corpus', fontsize = 25)\n",
    "sparse_df.sum().sort_values(ascending = False).head(15).plot(kind = 'barh', color = 'mediumturquoise',alpha = .7);"
   ]
  },
  {
   "cell_type": "markdown",
   "metadata": {},
   "source": [
    "Taking a look at our least common words in our corpus is appears we made good cut offs as far as character length and occurance count. Our least common words are still descriptive ones."
   ]
  },
  {
   "cell_type": "code",
   "execution_count": null,
   "metadata": {},
   "outputs": [],
   "source": [
    "plt.figure(figsize = (15,10))\n",
    "plt.yticks(fontsize = 20)\n",
    "plt.xticks(fontsize = 20)\n",
    "plt.title('Least Common Words in Corpus', fontsize = 25)\n",
    "sparse_df.sum().sort_values().head(15).plot(kind = 'barh',color = 'lightsalmon',alpha = .75);"
   ]
  },
  {
   "cell_type": "code",
   "execution_count": null,
   "metadata": {},
   "outputs": [],
   "source": [
    "sparse_df[fiction].sum().sort_values(ascending = False)"
   ]
  },
  {
   "cell_type": "code",
   "execution_count": null,
   "metadata": {},
   "outputs": [],
   "source": [
    "sparse_df.shape"
   ]
  },
  {
   "cell_type": "markdown",
   "metadata": {},
   "source": [
    "plot"
   ]
  },
  {
   "cell_type": "code",
   "execution_count": null,
   "metadata": {},
   "outputs": [],
   "source": [
    "type(stop_words)"
   ]
  },
  {
   "cell_type": "markdown",
   "metadata": {},
   "source": [
    "https://stackabuse.com/sentiment-analysis-in-python-with-textblob/"
   ]
  }
 ],
 "metadata": {
  "kernelspec": {
   "display_name": "Python 3",
   "language": "python",
   "name": "python3"
  },
  "language_info": {
   "codemirror_mode": {
    "name": "ipython",
    "version": 3
   },
   "file_extension": ".py",
   "mimetype": "text/x-python",
   "name": "python",
   "nbconvert_exporter": "python",
   "pygments_lexer": "ipython3",
   "version": "3.8.8"
  }
 },
 "nbformat": 4,
 "nbformat_minor": 4
}
